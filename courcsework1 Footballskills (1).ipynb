{
 "cells": [
  {
   "cell_type": "code",
   "execution_count": null,
   "id": "c99a67f2",
   "metadata": {},
   "outputs": [],
   "source": [
    "speed = \"0\"\n",
    "shooting = \"0\"\n",
    "passing= \"0\"\n",
    "dribbling = \"0\"\n",
    "physicality = \"0\"\n",
    "defending = \"0\"\n"
   ]
  },
  {
   "cell_type": "code",
   "execution_count": 9,
   "id": "defd222f",
   "metadata": {},
   "outputs": [
    {
     "name": "stdout",
     "output_type": "stream",
     "text": [
      "Test the player shooting from a range of 0-532\n",
      "Test the player speed from a range of 0-533\n",
      "Test the player passing from a range of 0-52\n",
      "Test the player dribbling from a range of 0-52\n",
      "Test the player physicall from a range of 0-53\n",
      "Test the player defending from a range of 0-52\n"
     ]
    }
   ],
   "source": [
    "shooting = int(input(\"Test the player shooting from a range of 0-5\"))\n",
    "speed = int(input(\"Test the player speed from a range of 0-5\"))\n",
    "passing = int(input(\"Test the player passing from a range of 0-5\"))\n",
    "dribbling = int(input(\"Test the player dribbling from a range of 0-5\"))\n",
    "physicallity = int(input(\"Test the player physicall from a range of 0-5\"))\n",
    "defending = int(input(\"Test the player defending from a range of 0-5\"))\n",
    "                "
   ]
  },
  {
   "cell_type": "code",
   "execution_count": 10,
   "id": "300b0c2c",
   "metadata": {},
   "outputs": [
    {
     "name": "stdout",
     "output_type": "stream",
     "text": [
      "error because it has to be between 0-5\n"
     ]
    }
   ],
   "source": [
    "if shooting > 5:\n",
    "    print(\"error because it has to be between 0-5\")\n",
    "elif shooting < 0:\n",
    "    print(\"error becuse it has to be between 0-5 \")\n",
    "elif speed > 5:\n",
    "    print (\"error becuse it has to be between 0-5\")\n",
    "elif speed < 0:\n",
    "    print (\"error becuse it has to be between 0-5\")\n",
    "elif passing > 5:\n",
    "    print (\"error becuse it has to be between 0-5\")\n",
    "elif passing < 0:\n",
    "    print (\"error becuse it has to be between 0-5\")\n",
    "elif dribbling > 5:\n",
    "     print (\"error becuse it has to be between 0-5\")\n",
    "elif dribbling > 0:\n",
    "     print (\"error becuse it has to be between 0-5\")\n",
    "elif defending > 5:\n",
    "     print (\"error becuse it has to be between 0-5\")\n",
    "elif defending < 0:\n",
    "    print (\"error becuse it has to be between 0-5\")\n",
    "elif physicallty > 5:\n",
    "    print (\"error becuse it has to be between 0-5\")\n",
    "elif physicallty < 0:\n",
    "    print (\"error becuse it has to be between 0-5\")\n",
    "    "
   ]
  },
  {
   "cell_type": "code",
   "execution_count": 8,
   "id": "983c717a",
   "metadata": {},
   "outputs": [
    {
     "name": "stdout",
     "output_type": "stream",
     "text": [
      "calculating\n",
      "your overall rating is 50.0 %\n"
     ]
    }
   ],
   "source": [
    "Total = speed + shooting + physicallity + defending + passing + dribbling #total of the skills rate \n",
    "print(\"calculating\")\n",
    "\n",
    "overallrate = (Total * 100/30) #persentages of the totsl\n",
    "print (\"your overall rating is \" + str(overallrate) + \" %\")"
   ]
  },
  {
   "cell_type": "code",
   "execution_count": 13,
   "id": "ef4c2733",
   "metadata": {},
   "outputs": [
    {
     "name": "stdout",
     "output_type": "stream",
     "text": [
      "your salary is 700 to 500\n"
     ]
    }
   ],
   "source": [
    "# satement for the salary of the player\n",
    "\n",
    "if overallrate >= 80:\n",
    "    print (\"your salary is 1000\")\n",
    "elif 60 <overallrate <80:\n",
    "    print(\"your salary is 1000 to 700\")\n",
    "elif overallrate == 60:\n",
    "    print(\"your salary is 700\")\n",
    "elif 45 < overallrate < 60:\n",
    "    print(\"your salary is 700 to 500\")\n",
    "elif overallrate == 45:\n",
    "    print(\"your salary is 500\")\n",
    "elif 30 < overallrate <45:\n",
    "    print (\" your salary is 400 to 500\")\n",
    "elif overallrate ==  30:\n",
    "    print(\"your salary is 400\")"
   ]
  },
  {
   "cell_type": "code",
   "execution_count": null,
   "id": "8a08389a",
   "metadata": {},
   "outputs": [],
   "source": []
  }
 ],
 "metadata": {
  "kernelspec": {
   "display_name": "Python 3 (ipykernel)",
   "language": "python",
   "name": "python3"
  },
  "language_info": {
   "codemirror_mode": {
    "name": "ipython",
    "version": 3
   },
   "file_extension": ".py",
   "mimetype": "text/x-python",
   "name": "python",
   "nbconvert_exporter": "python",
   "pygments_lexer": "ipython3",
   "version": "3.10.9"
  }
 },
 "nbformat": 4,
 "nbformat_minor": 5
}
