{
 "cells": [
  {
   "cell_type": "code",
   "execution_count": 1,
   "id": "c99a67f2",
   "metadata": {},
   "outputs": [],
   "source": [
    "#Mohamad mohamad student: MOH23583026\n",
    "from datetime import datetime\n",
    "import sys\n"
   ]
  },
  {
   "cell_type": "code",
   "execution_count": 2,
   "id": "23425d20",
   "metadata": {},
   "outputs": [],
   "source": [
    "# Constants for attribute names\n",
    "SPEED, SHOOTING, PASSING, DEFENDING, DRIBBLING, PHYSICALITY = (\"Speed\", \"Shooting\", \"Passing\", \"Defending\", \"Dribbling\", \"Physicality\")\n",
    "\n",
    "# Player information dictionary\n",
    "players = {player: {\"DOB\": None, \"Attributes\": {attr: None for attr in [SPEED, SHOOTING, PASSING, DEFENDING, DRIBBLING, PHYSICALITY]}}  \n",
    "    for player in [\"Player 1\", \"Player 2\", \"Player 3\"]} #(fixed by chatgpt)\n",
    "# List of dates of birth\n",
    "dates_of_birth = []\n",
    "playerList = [\"Player 1\", \"Player 2\", \"Player 3\"]\n",
    "playerInfo = []  # Define playerInfo as a list\n",
    "DOBs = []  # Define DOBs as a list\n"
   ]
  },
  {
   "cell_type": "code",
   "execution_count": null,
   "id": "6a14e853",
   "metadata": {},
   "outputs": [
    {
     "name": "stdout",
     "output_type": "stream",
     "text": [
      "What is your player ID? (Strictly 2-digit format, or enter 'end' to terminate): 22\n",
      "What is your name? (Player 1) Khalid\n",
      "Enter your date of birth (FORMAT YYYY-MM-DD)(Player 1) 2002-02-22\n",
      "What is your Speed? (0-5) (Player 1) 4\n",
      "What is your Shooting? (0-5) (Player 1) 4\n",
      "What is your Passing? (0-5) (Player 1) 3\n",
      "What is your Defending? (0-5) (Player 1) 4\n",
      "What is your Dribbling? (0-5) (Player 1) 5\n",
      "What is your Physicality? (0-5) (Player 1) 5\n",
      "\n",
      "Player 1 Info:\n",
      "Player ID: 22\n",
      "Player Name: Khalid\n",
      "Date of Birth: 2002-02-22 (Age: 21)\n",
      "83.33333333333333\n",
      "1000\n",
      "\n"
     ]
    }
   ],
   "source": [
    "def get_player_id():\n",
    "    while True:\n",
    "        player_id = input(\"What is your player ID? (Strictly 2-digit format, or enter 'end' to terminate): \")\n",
    "\n",
    "        if player_id.lower() == 'end':\n",
    "            return None\n",
    "\n",
    "        if player_id.isdigit() and len(player_id) == 2:\n",
    "            return player_id\n",
    "        else:\n",
    "            print(\"Error: Player ID should be a 2-digit number.\")\n",
    "\n",
    "def get_player_info(player_number):\n",
    "    player_id = get_player_id()\n",
    "\n",
    "    if player_id is None:\n",
    "        return None,\n",
    "\n",
    "    player_name = input(f\"What is your name? (Player {player_number}) \")\n",
    "    dob = input(f\"Enter your date of birth (FORMAT YYYY-MM-DD)(Player {player_number}) \")\n",
    "    age = datetime.now().year - int(dob[:4])  # Calculate age based on the current year\n",
    "\n",
    "    # Prompt for player skills\n",
    "    speed = int(input(f\"What is your Speed? (0-5) (Player {player_number}) \"))\n",
    "    shooting = int(input(f\"What is your Shooting? (0-5) (Player {player_number}) \"))\n",
    "    passing = int(input(f\"What is your Passing? (0-5) (Player {player_number}) \"))\n",
    "    defending = int(input(f\"What is your Defending? (0-5) (Player {player_number}) \"))\n",
    "    dribbling = int(input(f\"What is your Dribbling? (0-5) (Player {player_number}) \"))\n",
    "    physicality = int(input(f\"What is your Physicality? (0-5) (Player {player_number}) \"))\n",
    "\n",
    "    return player_id, player_name, dob, age, speed, shooting, passing, defending, dribbling, physicality\n",
    "\n",
    "def calculate_rating(speed, shooting, passing, dribbling, physicality, defending):\n",
    "    total = speed + shooting + physicality + defending + passing + dribbling\n",
    "    overall_rate = (total * 100 / 30)\n",
    "    return overall_rate\n",
    "\n",
    "def calculate_salary(overall_rate):\n",
    "    if overall_rate >= 80:\n",
    "        return 1000\n",
    "    elif 60 <= overall_rate < 80:\n",
    "        return 700, 1000\n",
    "    elif overall_rate == 60:\n",
    "        return 700\n",
    "    elif 45 <= overall_rate < 60:\n",
    "        return 500, 700\n",
    "    elif overall_rate == 45:\n",
    "        return 500\n",
    "    elif 30 <= overall_rate < 45:\n",
    "        return 400, 500\n",
    "    elif overall_rate == 30:\n",
    "        return 400\n",
    "    else:\n",
    "        return \"Salary not defined for this overall rating\"\n",
    "\n",
    "def display_player_info(player_info, player_number):\n",
    "    print(f\"\\nPlayer {player_number} Info:\")\n",
    "    print(f\"Player ID: {player_info['Player ID']}\")\n",
    "    print(f\"Player Name: {player_info['Player Name']}\")\n",
    "    print(f\"Date of Birth: {player_info['Date of Birth']} (Age: {player_info['Age']})\")\n",
    "    print(player_info['Overall Rating'])\n",
    "    print(player_info['Salary'])\n",
    "    print()\n",
    "\n",
    "def main():\n",
    "    players_data = []\n",
    "\n",
    "    for i in range(1, 4):  # Prompt for 3 players\n",
    "        player_info = get_player_info(i)\n",
    "\n",
    "        if player_info is None:\n",
    "            break  # Exit the loop if the user decides to stop\n",
    "\n",
    "        overall_rate = calculate_rating(player_info[4], player_info[5], player_info[6], player_info[7], player_info[8], player_info[9])\n",
    "        salary = calculate_salary(overall_rate)\n",
    "\n",
    "        player_data_dict = {\n",
    "            \"Player ID\": player_info[0],\n",
    "            \"Player Name\": player_info[1],\n",
    "            \"Date of Birth\": player_info[2],\n",
    "            \"Age\": player_info[3],\n",
    "            \"Overall Rating\": overall_rate,\n",
    "            \"Salary\": salary\n",
    "        }\n",
    "\n",
    "        players_data.append(player_data_dict)\n",
    "        display_player_info(player_data_dict, i)\n",
    "\n",
    "if __name__ == \"__main__\":\n",
    "    main()"
   ]
  },
  {
   "cell_type": "code",
   "execution_count": 8,
   "id": "983c717a",
   "metadata": {},
   "outputs": [
    {
     "name": "stdout",
     "output_type": "stream",
     "text": [
      "calculating\n",
      "your overall rating is 50.0 %\n"
     ]
    }
   ],
   "source": [
    "Total = speed + shooting + physicality + defending + passing + dribbling #total of the skills rate \n",
    "print(\"calculating\")\n",
    "\n",
    "overallrate = (Total * 100/30) #persentages of the totsl\n",
    "print (\"your overall rating is \" + str(overallrate) + \" %\")"
   ]
  },
  {
   "cell_type": "code",
   "execution_count": 12,
   "id": "ef4c2733",
   "metadata": {},
   "outputs": [
    {
     "ename": "IndentationError",
     "evalue": "expected an indented block after function definition on line 4 (2014654520.py, line 6)",
     "output_type": "error",
     "traceback": [
      "\u001b[1;36m  Cell \u001b[1;32mIn[12], line 6\u001b[1;36m\u001b[0m\n\u001b[1;33m    if overallrate >= 80:\u001b[0m\n\u001b[1;37m    ^\u001b[0m\n\u001b[1;31mIndentationError\u001b[0m\u001b[1;31m:\u001b[0m expected an indented block after function definition on line 4\n"
     ]
    }
   ],
   "source": [
    "#statement for the salary of the player \n",
    "\n",
    "overallSalary = [1000, 700, 500, 400] \n",
    "def calculate_salary(overallRate, overallSalary):\n",
    "\n",
    "if overallrate >= 80:\n",
    "    print (\"1000\")\n",
    "elif 60 <overallrate < 80:\n",
    "    print(\"1000 700\")\n",
    "elif overallrate == 60:\n",
    "    print(\"700\")\n",
    "elif 45 < overallrate < 60:\n",
    "    print(\"700 500\")\n",
    "elif overallrate == 45:\n",
    "    print(\"500\")\n",
    "elif 30 < overallrate < 45:\n",
    "    print (\"500 400\")\n",
    "elif overallrate == 30:\n",
    "    print(\"400\")\n",
    "calculate_salary(overallRate, overallSalary)"
   ]
  },
  {
   "cell_type": "code",
   "execution_count": null,
   "id": "8a08389a",
   "metadata": {},
   "outputs": [],
   "source": []
  }
 ],
 "metadata": {
  "kernelspec": {
   "display_name": "Python 3 (ipykernel)",
   "language": "python",
   "name": "python3"
  },
  "language_info": {
   "codemirror_mode": {
    "name": "ipython",
    "version": 3
   },
   "file_extension": ".py",
   "mimetype": "text/x-python",
   "name": "python",
   "nbconvert_exporter": "python",
   "pygments_lexer": "ipython3",
   "version": "3.10.9"
  }
 },
 "nbformat": 4,
 "nbformat_minor": 5
}
