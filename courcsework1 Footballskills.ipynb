{
 "cells": [
  {
   "cell_type": "code",
   "execution_count": null,
   "id": "c99a67f2",
   "metadata": {},
   "outputs": [],
   "source": [
    "speed = \"0\"\n",
    "shooting = \"0\"\n",
    "passing= \"0\"\n",
    "dribbling = \"0\"\n",
    "physicality = \"0\"\n",
    "defending = \"0\"\n"
   ]
  },
  {
   "cell_type": "markdown",
   "id": "52d0128c",
   "metadata": {},
   "source": [
    "1# shooting = int(input(\"Test the player shooting from a range of 0-5\"))\n",
    "speed = int(input(\"Test the player speed from a range of 0-5\"))\n",
    "passing = int(input(\"Test the player passing from a range of 0-5\"))\n",
    "dribbling = int(input(\"Test the player dribbling from a range of 0-5\"))\n",
    "physicality = int(input(\"Test the player physicall from a range of 0-5\"))\n",
    "defending = int(input(\"Test the player defending from a range of 0-5\"))\n",
    "\n",
    "if shooting > 5 or shooting < 0:\n",
    "    print(\"error because shooting has to be between 0-5\")\n",
    "elif speed > 5 or speed < 0:\n",
    "    print(\"error because speed has to be between 0-5\")\n",
    "elif passing > 5 or passing < 0:\n",
    "    print(\"error because passing has to be between 0-5\")\n",
    "elif dribbling > 5 or dribbling < 0:\n",
    "    print(\"error because dribbling has to be between 0-5\")\n",
    "elif defending > 5 or defending < 0:\n",
    "    print(\"error because defending has to be between 0-5\")\n",
    "elif physicality > 5 or physicality < 0:\n",
    "    print(\"error because physicality has to be between 0-5\")\n",
    "    "
   ]
  },
  {
   "cell_type": "code",
   "execution_count": 7,
   "id": "23425d20",
   "metadata": {},
   "outputs": [],
   "source": [
    "# Constants for attribute names\n",
    "SPEED, SHOOTING, PASSING, DEFENDING, DRIBBLING, PHYSICALITY = (\"Speed\", \"Shooting\", \"Passing\", \"Defending\", \"Dribbling\", \"Physicality\")\n",
    "\n",
    "# Player information dictionary\n",
    "players = {player: {\"DOB\": None, \"Attributes\": {attr: None for attr in [SPEED, SHOOTING, PASSING, DEFENDING, DRIBBLING, PHYSICALITY]}}  \n",
    "    for player in [\"Player 1\", \"Player 2\", \"Player 3\"]} #(fixed by chatgpt)\n",
    "# List of dates of birth\n",
    "dates_of_birth = []\n",
    "playerList = [\"Player 1\", \"Player 2\", \"Player 3\"]\n",
    "playerInfo = []  # Define playerInfo as a list\n",
    "DOBs = []  # Define DOBs as a list\n"
   ]
  },
  {
   "cell_type": "code",
   "execution_count": 9,
   "id": "6a14e853",
   "metadata": {},
   "outputs": [
    {
     "name": "stdout",
     "output_type": "stream",
     "text": [
      "What is your name? (Player 1) mohamadm\n",
      "What is your playerID? (FORMAT 2 DIGITS) (Player 1) 22\n",
      "Enter your date of birth (FORMAT YYYY-MM-DD) (Player 1) 14-09-2004\n"
     ]
    },
    {
     "ename": "NameError",
     "evalue": "name 'datetime' is not defined",
     "output_type": "error",
     "traceback": [
      "\u001b[1;31m---------------------------------------------------------------------------\u001b[0m",
      "\u001b[1;31mNameError\u001b[0m                                 Traceback (most recent call last)",
      "Cell \u001b[1;32mIn[9], line 37\u001b[0m\n\u001b[0;32m     34\u001b[0m         \u001b[38;5;28mprint\u001b[39m(\u001b[38;5;124m\"\u001b[39m\u001b[38;5;124mIndividual Ratings:\u001b[39m\u001b[38;5;124m\"\u001b[39m, individual_ratings)\n\u001b[0;32m     36\u001b[0m \u001b[38;5;28;01mif\u001b[39;00m \u001b[38;5;18m__name__\u001b[39m \u001b[38;5;241m==\u001b[39m \u001b[38;5;124m\"\u001b[39m\u001b[38;5;124m__main__\u001b[39m\u001b[38;5;124m\"\u001b[39m:\n\u001b[1;32m---> 37\u001b[0m     \u001b[43mmain\u001b[49m\u001b[43m(\u001b[49m\u001b[43m)\u001b[49m\n",
      "Cell \u001b[1;32mIn[9], line 30\u001b[0m, in \u001b[0;36mmain\u001b[1;34m()\u001b[0m\n\u001b[0;32m     28\u001b[0m \u001b[38;5;28;01mdef\u001b[39;00m \u001b[38;5;21mmain\u001b[39m():\n\u001b[0;32m     29\u001b[0m     \u001b[38;5;28;01mfor\u001b[39;00m i \u001b[38;5;129;01min\u001b[39;00m \u001b[38;5;28mrange\u001b[39m(\u001b[38;5;241m3\u001b[39m):\n\u001b[1;32m---> 30\u001b[0m         \u001b[43mget_player_info\u001b[49m\u001b[43m(\u001b[49m\u001b[43mi\u001b[49m\u001b[43m)\u001b[49m\n\u001b[0;32m     31\u001b[0m         individual_ratings \u001b[38;5;241m=\u001b[39m get_skills(i)\n\u001b[0;32m     32\u001b[0m         \u001b[38;5;28mprint\u001b[39m(\u001b[38;5;124m\"\u001b[39m\u001b[38;5;124mPlayer Info:\u001b[39m\u001b[38;5;124m\"\u001b[39m, players[playerList[i]]) \u001b[38;5;66;03m#(fixed by chatgpt)\u001b[39;00m\n",
      "Cell \u001b[1;32mIn[9], line 10\u001b[0m, in \u001b[0;36mget_player_info\u001b[1;34m(player_num)\u001b[0m\n\u001b[0;32m      8\u001b[0m dob_input \u001b[38;5;241m=\u001b[39m \u001b[38;5;28minput\u001b[39m(\u001b[38;5;124mf\u001b[39m\u001b[38;5;124m\"\u001b[39m\u001b[38;5;124mEnter your date of birth (FORMAT YYYY-MM-DD) (\u001b[39m\u001b[38;5;132;01m{\u001b[39;00mplayerList[player_num]\u001b[38;5;132;01m}\u001b[39;00m\u001b[38;5;124m) \u001b[39m\u001b[38;5;124m\"\u001b[39m)\n\u001b[0;32m      9\u001b[0m \u001b[38;5;28;01mtry\u001b[39;00m:\n\u001b[1;32m---> 10\u001b[0m     dob_conversion \u001b[38;5;241m=\u001b[39m \u001b[43mdatetime\u001b[49m\u001b[38;5;241m.\u001b[39mstrptime(dob_input, \u001b[38;5;124m\"\u001b[39m\u001b[38;5;124m%\u001b[39m\u001b[38;5;124mY-\u001b[39m\u001b[38;5;124m%\u001b[39m\u001b[38;5;124mm-\u001b[39m\u001b[38;5;132;01m%d\u001b[39;00m\u001b[38;5;124m\"\u001b[39m) \u001b[38;5;66;03m#(learn this on learn python.org)\u001b[39;00m\n\u001b[0;32m     11\u001b[0m     DOBs\u001b[38;5;241m.\u001b[39mappend(dob_conversion)\n\u001b[0;32m     12\u001b[0m     players[playerList[player_num]][\u001b[38;5;124m\"\u001b[39m\u001b[38;5;124mDOB\u001b[39m\u001b[38;5;124m\"\u001b[39m] \u001b[38;5;241m=\u001b[39m dob_conversion\n",
      "\u001b[1;31mNameError\u001b[0m: name 'datetime' is not defined"
     ]
    }
   ],
   "source": [
    "def get_player_info(player_num):\n",
    "    name = input(f\"What is your name? ({playerList[player_num]}) \")\n",
    "    player_id = int(input(f\"What is your playerID? (FORMAT 2 DIGITS) ({playerList[player_num]}) \"))\n",
    "    while not (10 <= player_id < 100):\n",
    "        print(\"Wrong format, playerID has to be two digits\")\n",
    "        player_id = int(input(f\"What is your playerID? (FORMAT 2 DIGITS) ({playerList[player_num]}) \"))\n",
    "    playerInfo.append(player_id)\n",
    "    dob_input = input(f\"Enter your date of birth (FORMAT YYYY-MM-DD) ({playerList[player_num]}) \")\n",
    "    try:\n",
    "        dob_conversion = datetime.strptime(dob_input, \"%Y-%m-%d\") #(learn this on learn python.org)\n",
    "        DOBs.append(dob_conversion)\n",
    "        players[playerList[player_num]][\"DOB\"] = dob_conversion\n",
    "    except ValueError:\n",
    "        print(\"Invalid birthday input, it should be in the format YYYY-MM-DD\")\n",
    "\n",
    "def get_skills(player_num):\n",
    "  for x in range(6):\n",
    "    ratings = {}\n",
    "    for attribute in [SPEED, SHOOTING, PASSING, DEFENDING, DRIBBLING, PHYSICALITY]:\n",
    "        rating = int(input(f\"What is your {attribute}? (0-5) \"))    #(learn that f is the string for this section)\n",
    "        while not (0 <= rating <= 5):\n",
    "            print(\"Error, the number has to be between 0-5\")\n",
    "            rating = int(input(f\"What is your {attribute}? (0-5) \"))\n",
    "        ratings[attribute] = rating\n",
    "    players[playerList[player_num]][\"Attributes\"].update(ratings)\n",
    "    return ratings\n",
    "\n",
    "def main():\n",
    "    for i in range(3):\n",
    "        get_player_info(i)\n",
    "        individual_ratings = get_skills(i)\n",
    "        print(\"Player Info:\", players[playerList[i]]) #(fixed by chatgpt)\n",
    "        print(\"Date of Births:\", dates_of_birth)\n",
    "        print(\"Individual Ratings:\", individual_ratings)\n",
    "\n",
    "if __name__ == \"__main__\":\n",
    "    main()\n"
   ]
  },
  {
   "cell_type": "code",
   "execution_count": 8,
   "id": "983c717a",
   "metadata": {},
   "outputs": [
    {
     "name": "stdout",
     "output_type": "stream",
     "text": [
      "calculating\n",
      "your overall rating is 50.0 %\n"
     ]
    }
   ],
   "source": [
    "Total = speed + shooting + physicality + defending + passing + dribbling #total of the skills rate \n",
    "print(\"calculating\")\n",
    "\n",
    "overallrate = (Total * 100/30) #persentages of the totsl\n",
    "print (\"your overall rating is \" + str(overallrate) + \" %\")"
   ]
  },
  {
   "cell_type": "code",
   "execution_count": 12,
   "id": "ef4c2733",
   "metadata": {},
   "outputs": [
    {
     "ename": "IndentationError",
     "evalue": "expected an indented block after function definition on line 4 (2014654520.py, line 6)",
     "output_type": "error",
     "traceback": [
      "\u001b[1;36m  Cell \u001b[1;32mIn[12], line 6\u001b[1;36m\u001b[0m\n\u001b[1;33m    if overallrate >= 80:\u001b[0m\n\u001b[1;37m    ^\u001b[0m\n\u001b[1;31mIndentationError\u001b[0m\u001b[1;31m:\u001b[0m expected an indented block after function definition on line 4\n"
     ]
    }
   ],
   "source": [
    "#statement for the salary of the player \n",
    "\n",
    "overallSalary = [1000, 700, 500, 400] \n",
    "def calculate_salary(overallRate, overallSalary):\n",
    "\n",
    "if overallrate >= 80:\n",
    "    print (\"1000\")\n",
    "elif 60 <overallrate < 80:\n",
    "    print(\"1000 700\")\n",
    "elif overallrate == 60:\n",
    "    print(\"700\")\n",
    "elif 45 < overallrate < 60:\n",
    "    print(\"700 500\")\n",
    "elif overallrate == 45:\n",
    "    print(\"500\")\n",
    "elif 30 < overallrate < 45:\n",
    "    print (\"500 400\")\n",
    "elif overallrate == 30:\n",
    "    print(\"400\")\n",
    "calculate_salary(overallRate, overallSalary)"
   ]
  },
  {
   "cell_type": "code",
   "execution_count": null,
   "id": "8a08389a",
   "metadata": {},
   "outputs": [],
   "source": []
  }
 ],
 "metadata": {
  "kernelspec": {
   "display_name": "Python 3 (ipykernel)",
   "language": "python",
   "name": "python3"
  },
  "language_info": {
   "codemirror_mode": {
    "name": "ipython",
    "version": 3
   },
   "file_extension": ".py",
   "mimetype": "text/x-python",
   "name": "python",
   "nbconvert_exporter": "python",
   "pygments_lexer": "ipython3",
   "version": "3.10.9"
  }
 },
 "nbformat": 4,
 "nbformat_minor": 5
}
